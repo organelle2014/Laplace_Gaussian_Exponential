{
 "cells": [
  {
   "cell_type": "code",
   "execution_count": 1,
   "metadata": {},
   "outputs": [],
   "source": [
    "import numpy as np\n",
    "from sklearn.datasets import make_classification\n",
    "from sklearn.linear_model import LogisticRegression\n",
    "from sklearn.metrics import accuracy_score\n",
    "from sklearn.model_selection import train_test_split"
   ]
  },
  {
   "cell_type": "code",
   "execution_count": 2,
   "metadata": {},
   "outputs": [],
   "source": [
    "# Generate a sample dataset\n",
    "X, y = make_classification(n_samples=1000, n_features=10, n_informative=5, random_state=42)"
   ]
  },
  {
   "cell_type": "code",
   "execution_count": 3,
   "metadata": {},
   "outputs": [],
   "source": [
    "# Split the dataset into train and test sets\n",
    "X_train, X_test, y_train, y_test = train_test_split(X, y, test_size=0.2, random_state=42)"
   ]
  },
  {
   "cell_type": "code",
   "execution_count": 4,
   "metadata": {},
   "outputs": [],
   "source": [
    "# Define the sensitivity of the data\n",
    "sensitivity = 1.0"
   ]
  },
  {
   "cell_type": "code",
   "execution_count": 5,
   "metadata": {},
   "outputs": [],
   "source": [
    "# Define the privacy parameters\n",
    "epsilon_laplace = 0.1\n",
    "epsilon_gaussian = 0.1\n",
    "epsilon_exponential = 0.1\n",
    "delta = 1e-5"
   ]
  },
  {
   "cell_type": "code",
   "execution_count": 25,
   "metadata": {},
   "outputs": [],
   "source": [
    "# Add Laplace noise to the data\n",
    "laplace_noise = np.random.laplace(scale=sensitivity / epsilon_laplace, size=X_train.shape)\n",
    "X_train_laplace = X_train + laplace_noise"
   ]
  },
  {
   "cell_type": "code",
   "execution_count": 3,
   "metadata": {},
   "outputs": [
    {
     "name": "stdout",
     "output_type": "stream",
     "text": [
      "Accuracy (Laplace mechanism): 0.505\n",
      "Accuracy (LGE mechanism): 0.47\n"
     ]
    }
   ],
   "source": [
    "# Train a logistic regression model on the noisy data (Laplace mechanism)\n",
    "clf_laplace = LogisticRegression(random_state=42)\n",
    "clf_laplace.fit(X_train_laplace, y_train)\n",
    "\n",
    "# Evaluate the accuracy of the model on the test data\n",
    "X_test_laplace = X_test + np.random.laplace(scale=sensitivity / epsilon_laplace, size=X_test.shape)\n",
    "y_pred_laplace = clf_laplace.predict(X_test_laplace)\n",
    "accuracy_laplace = accuracy_score(y_test, y_pred_laplace)\n",
    "\n",
    "# Add Laplace, Gaussian, and Exponential noise to the data (LGE mechanism)\n",
    "gaussian_noise = np.random.normal(scale=np.sqrt(2 * np.log(1.25 / delta)) * sensitivity / epsilon_gaussian, size=X_train.shape)\n",
    "exponential_noise = np.random.exponential(scale=1 / (sensitivity / epsilon_exponential), size=X_train.shape)\n",
    "X_train_lge = X_train + laplace_noise + gaussian_noise + exponential_noise\n",
    "\n",
    "# Train a logistic regression model on the noisy data (LGE mechanism)\n",
    "clf_lge = LogisticRegression(random_state=42)\n",
    "clf_lge.fit(X_train_lge, y_train)\n",
    "\n",
    "# Evaluate the accuracy of the model on the test data\n",
    "X_test_lge = X_test + np.random.laplace(scale=sensitivity / epsilon_laplace, size=X_test.shape) + np.random.normal(scale=np.sqrt(2 * np.log(1.25 / delta)) * sensitivity / epsilon_gaussian, size=X_test.shape) + np.random.exponential(scale=1 / (sensitivity / epsilon_exponential), size=X_test.shape)\n",
    "y_pred_lge = clf_lge.predict(X_test_lge)\n",
    "accuracy_lge = accuracy_score(y_test, y_pred_lge)\n",
    "\n",
    "# Print the results\n",
    "print('Accuracy (Laplace mechanism):', accuracy_laplace)\n",
    "print('Accuracy (LGE mechanism):', accuracy_lge)"
   ]
  },
  {
   "cell_type": "code",
   "execution_count": 1,
   "metadata": {},
   "outputs": [
    {
     "name": "stdout",
     "output_type": "stream",
     "text": [
      "Accuracy (Laplace mechanism): 0.685\n",
      "Accuracy (LGE mechanism): 0.555\n"
     ]
    }
   ],
   "source": [
    "import numpy as np\n",
    "from sklearn.datasets import make_classification\n",
    "from sklearn.linear_model import LogisticRegression\n",
    "from sklearn.metrics import accuracy_score\n",
    "from sklearn.model_selection import train_test_split\n",
    "\n",
    "# Generate a sample dataset\n",
    "X, y = make_classification(n_samples=1000, n_features=10, n_informative=5, random_state=42)\n",
    "\n",
    "# Split the dataset into train and test sets\n",
    "X_train, X_test, y_train, y_test = train_test_split(X, y, test_size=0.2, random_state=42)\n",
    "\n",
    "# Define the sensitivity of the data\n",
    "sensitivity = 1.0\n",
    "\n",
    "# Define the privacy parameters\n",
    "epsilon_laplace = 1.0\n",
    "epsilon_gaussian = 1.0\n",
    "epsilon_exponential = 1.0\n",
    "delta = 1e-5\n",
    "\n",
    "# Add Laplace noise to the data (Laplace mechanism)\n",
    "laplace_noise = np.random.laplace(scale=sensitivity / epsilon_laplace, size=X_train.shape)\n",
    "X_train_laplace = X_train + laplace_noise\n",
    "\n",
    "# Train a logistic regression model on the noisy data (Laplace mechanism)\n",
    "clf_laplace = LogisticRegression(random_state=42)\n",
    "clf_laplace.fit(X_train_laplace, y_train)\n",
    "\n",
    "# Evaluate the accuracy of the model on the test data\n",
    "X_test_laplace = X_test + np.random.laplace(scale=sensitivity / epsilon_laplace, size=X_test.shape)\n",
    "y_pred_laplace = clf_laplace.predict(X_test_laplace)\n",
    "accuracy_laplace = accuracy_score(y_test, y_pred_laplace)\n",
    "\n",
    "# Add Laplace, Gaussian, and Exponential noise to the data (LGE mechanism)\n",
    "gaussian_noise = np.random.normal(scale=np.sqrt(2 * np.log(1.25 / delta)) * sensitivity / epsilon_gaussian, size=X_train.shape)\n",
    "exponential_noise = np.random.exponential(scale=1 / (sensitivity / epsilon_exponential), size=X_train.shape)\n",
    "laplace_noise = np.random.laplace(scale=sensitivity / epsilon_laplace, size=X_train.shape)\n",
    "X_train_lge = X_train + laplace_noise + gaussian_noise + exponential_noise\n",
    "\n",
    "# Train a logistic regression model on the noisy data (LGE mechanism)\n",
    "clf_lge = LogisticRegression(random_state=42)\n",
    "clf_lge.fit(X_train_lge, y_train)\n",
    "\n",
    "# Evaluate the accuracy of the model on the test data\n",
    "X_test_lge = X_test + np.random.laplace(scale=sensitivity / epsilon_laplace, size=X_test.shape) + np.random.normal(scale=np.sqrt(2 * np.log(1.25 / delta)) * sensitivity / epsilon_gaussian, size=X_test.shape) + np.random.exponential(scale=1 / (sensitivity / epsilon_exponential), size=X_test.shape)\n",
    "y_pred_lge = clf_lge.predict(X_test_lge)\n",
    "accuracy_lge = accuracy_score(y_test, y_pred_lge)\n",
    "\n",
    "# Print the results\n",
    "print('Accuracy (Laplace mechanism):', accuracy_laplace)\n",
    "print('Accuracy (LGE mechanism):', accuracy_lge)"
   ]
  },
  {
   "cell_type": "code",
   "execution_count": 15,
   "metadata": {},
   "outputs": [],
   "source": [
    "import numpy as np\n",
    "from sklearn.datasets import make_classification\n",
    "from sklearn.linear_model import LogisticRegression\n",
    "from sklearn.metrics import accuracy_score\n",
    "from sklearn.model_selection import train_test_split\n",
    "import matplotlib.pyplot as plt\n",
    "\n",
    "# Generate a sample dataset\n",
    "X, y = make_classification(n_samples=1000, n_features=10, n_informative=5, random_state=42)\n",
    "\n",
    "# Split the dataset into train and test sets\n",
    "X_train, X_test, y_train, y_test = train_test_split(X, y, test_size=0.2, random_state=42)\n",
    "\n",
    "# Define the sensitivity of the data\n",
    "sensitivity = 1.0\n",
    "\n",
    "# Define the privacy parameters\n",
    "epsilon_laplace = 1.0\n",
    "epsilon_gaussian = 1.0\n",
    "epsilon_exponential = 1.0\n",
    "delta = 1e-5\n",
    "\n",
    "# Add Laplace noise to the data (Laplace mechanism)\n",
    "laplace_noise = np.random.laplace(scale=sensitivity / epsilon_laplace, size=X_train.shape)\n",
    "X_train_laplace = X_train + laplace_noise\n",
    "\n",
    "# Train a logistic regression model on the noisy data (Laplace mechanism)\n",
    "clf_laplace = LogisticRegression(random_state=42)\n",
    "clf_laplace.fit(X_train_laplace, y_train)\n",
    "\n",
    "# Evaluate the accuracy of the model on the test data\n",
    "X_test_laplace = X_test + np.random.laplace(scale=sensitivity / epsilon_laplace, size=X_test.shape)\n",
    "y_pred_laplace = clf_laplace.predict(X_test_laplace)\n",
    "accuracy_laplace = accuracy_score(y_test, y_pred_laplace)\n",
    "\n",
    "# Add Laplace, Gaussian, and Exponential noise to the data (LGE mechanism)\n",
    "gaussian_noise = np.random.normal(scale=np.sqrt(2 * np.log(1.25 / delta)) * sensitivity / epsilon_gaussian, size=X_train.shape)\n",
    "exponential_noise = np.random.exponential(scale=1 / (sensitivity / epsilon_exponential), size=X_train.shape)\n",
    "laplace_noise = np.random.laplace(scale=sensitivity / epsilon_laplace, size=X_train.shape)\n",
    "X_train_lge = X_train + laplace_noise + gaussian_noise + exponential_noise"
   ]
  },
  {
   "cell_type": "code",
   "execution_count": 16,
   "metadata": {},
   "outputs": [
    {
     "data": {
      "text/plain": [
       "LogisticRegression(C=1.0, class_weight=None, dual=False, fit_intercept=True,\n",
       "                   intercept_scaling=1, l1_ratio=None, max_iter=100,\n",
       "                   multi_class='auto', n_jobs=None, penalty='l2',\n",
       "                   random_state=42, solver='lbfgs', tol=0.0001, verbose=0,\n",
       "                   warm_start=False)"
      ]
     },
     "execution_count": 16,
     "metadata": {},
     "output_type": "execute_result"
    }
   ],
   "source": [
    "# Train a logistic regression model on the noisy data (LGE mechanism)\n",
    "clf_lge = LogisticRegression(random_state=42)\n",
    "clf_lge.fit(X_train_lge, y_train)"
   ]
  },
  {
   "cell_type": "code",
   "execution_count": 17,
   "metadata": {},
   "outputs": [
    {
     "name": "stdout",
     "output_type": "stream",
     "text": [
      "Sample data:\n",
      "[[ 1.12510039  1.17812384  0.49351604  0.79087988 -0.61427777  1.34701995\n",
      "   1.41951509  1.35732466  0.9660408  -1.98113862]\n",
      " [-0.56464086  3.6386291  -1.52241469 -1.54170477  1.6166972   4.78131011\n",
      "   3.19029219 -0.89025442  1.43882638 -3.82874758]\n",
      " [ 0.51631285  2.16542633 -0.62848571 -0.3869229   0.49251774  1.44238083\n",
      "   1.33290457 -1.95817543 -0.34880315 -1.8041241 ]\n",
      " [ 0.53728173  0.96661781 -0.1154203   0.67075498 -0.9585158   0.87143961\n",
      "   0.50818563 -1.03447136 -1.65417644 -1.91050261]\n",
      " [ 0.27838451  1.06582796 -1.7249169  -2.23566655  0.7151073   0.73124852\n",
      "  -0.67411885  0.59833017 -0.52428274  1.04760996]]\n"
     ]
    }
   ],
   "source": [
    "# Print the sample data generated\n",
    "print(\"Sample data:\")\n",
    "print(X[:5])"
   ]
  },
  {
   "cell_type": "code",
   "execution_count": 18,
   "metadata": {},
   "outputs": [
    {
     "data": {
      "image/png": "[encoded data removed]",
      "text/plain": [
       "<Figure size 432x288 with 1 Axes>"
      ]
     },
     "metadata": {
      "needs_background": "light"
     },
     "output_type": "display_data"
    }
   ],
   "source": [
    "# Evaluate the accuracy of the model on the test data\n",
    "X_test_lge = X_test + np.random.laplace(scale=sensitivity / epsilon_laplace, size=X_test.shape) + np.random.normal(scale=np.sqrt(2 * np.log(1.25 / delta)) * sensitivity / epsilon_gaussian, size=X_test.shape) + np.random.exponential(scale=1 / (sensitivity / epsilon_exponential), size=X_test.shape)\n",
    "y_pred_lge = clf_lge.predict(X_test_lge)\n",
    "accuracy_lge = accuracy_score(y_test, y_pred_lge)\n",
    "\n",
    "# Plot the results\n",
    "x_values = ['Laplace mechanism', 'LGE mechanism']\n",
    "y_values = [accuracy_laplace, accuracy_lge]\n",
    "plt.plot(x_values, y_values, marker='o')\n",
    "plt.title('Accuracy comparison')\n",
    "plt.ylabel('Accuracy')\n",
    "plt.show()"
   ]
  },
  {
   "cell_type": "code",
   "execution_count": 19,
   "metadata": {},
   "outputs": [
    {
     "data": {
      "image/png": "[encoded data removed]",
      "text/plain": [
       "<Figure size 432x288 with 4 Axes>"
      ]
     },
     "metadata": {
      "needs_background": "light"
     },
     "output_type": "display_data"
    }
   ],
   "source": [
    "# Plot the results\n",
    "x_values = ['Laplace mechanism', 'LGE mechanism']\n",
    "y_values = [accuracy_laplace, accuracy_lge]\n",
    "plt.subplot(2, 2, 1)\n",
    "plt.bar(x_values, y_values)\n",
    "plt.title('Accuracy comparison')\n",
    "plt.ylabel('Accuracy')\n",
    "\n",
    "sns.heatmap(confusion_laplace, annot=True, fmt='d', cmap='Blues')\n",
    "plt.title('Confusion matrix (Laplace mechanism)')\n",
    "plt.xlabel('Predicted label')\n",
    "plt.ylabel('True label')\n",
    "\n",
    "sns.heatmap(confusion_lge, annot=True, fmt='d', cmap='Blues')\n",
    "plt.title('Confusion matrix (LGE mechanism)')\n",
    "plt.xlabel('Predicted label')\n",
    "plt.ylabel('True label')\n",
    "\n",
    "plt.subplot(2, 2, 4)\n",
    "plt.hist(y_pred_laplace, alpha=0.5, label='Laplace mechanism')\n",
    "plt.hist(y_pred_lge, alpha=0.5, label='LGE mechanism')\n",
    "plt.title('Histogram of predicted labels')\n",
    "plt.xlabel('Predicted label')\n",
    "plt.ylabel('Frequency')\n",
    "plt.legend()\n",
    "\n",
    "plt.tight_layout()\n",
    "plt.show()"
   ]
  },
  {
   "cell_type": "code",
   "execution_count": 20,
   "metadata": {},
   "outputs": [
    {
     "name": "stdout",
     "output_type": "stream",
     "text": [
      "Accuracy (Laplace mechanism): 0.755\n",
      "Accuracy (LGE mechanism): 0.555\n"
     ]
    }
   ],
   "source": [
    "# Print the results\n",
    "print('Accuracy (Laplace mechanism):', accuracy_laplace)\n",
    "print('Accuracy (LGE mechanism):', accuracy_lge)"
   ]
  }
 ],
 "metadata": {
  "kernelspec": {
   "display_name": "Python 3",
   "language": "python",
   "name": "python3"
  },
  "language_info": {
   "codemirror_mode": {
    "name": "ipython",
    "version": 3
   },
   "file_extension": ".py",
   "mimetype": "text/x-python",
   "name": "python",
   "nbconvert_exporter": "python",
   "pygments_lexer": "ipython3",
   "version": "3.7.6"
  }
 },
 "nbformat": 4,
 "nbformat_minor": 4
}
